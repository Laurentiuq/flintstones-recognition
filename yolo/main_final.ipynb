{
 "cells": [
  {
   "cell_type": "code",
   "execution_count": 1,
   "metadata": {},
   "outputs": [],
   "source": [
    "import os\n",
    "import cv2 as cv\n",
    "import numpy as np\n",
    "import matplotlib.pyplot as plt\n",
    "from skimage.feature import hog\n",
    "import torch\n",
    "import torch.nn as nn\n",
    "import torch.nn.functional as F\n",
    "import glob\n",
    "import torch.optim as optim\n",
    "import timeit\n",
    "import ntpath\n",
    "import tqdm\n",
    "\n",
    "\n",
    "torch.cuda.set_device(0)"
   ]
  },
  {
   "cell_type": "code",
   "execution_count": 2,
   "metadata": {},
   "outputs": [
    {
     "name": "stdout",
     "output_type": "stream",
     "text": [
      "cuda:1\n"
     ]
    }
   ],
   "source": [
    "device = torch.device(\"cuda:1\" if torch.cuda.is_available() else \"cpu\")\n",
    "print(device)\n",
    "base_dir = os.path.dirname(\"antrenare/\")\n",
    "\n",
    "# personaj = \"task1\"\n",
    "im_height = 360\n",
    "im_width = 480"
   ]
  },
  {
   "cell_type": "code",
   "execution_count": 4,
   "metadata": {},
   "outputs": [
    {
     "name": "stdout",
     "output_type": "stream",
     "text": [
      "\n",
      "0: 480x640 2 faces, 1: 480x640 2 faces, 2: 480x640 1 face, 3: 480x640 2 faces, 4: 480x640 1 face, 5: 480x640 1 face, 6: 480x640 2 faces, 7: 480x640 1 face, 8: 480x640 2 faces, 9: 480x640 1 face, 10: 480x640 2 faces, 11: 480x640 1 face, 12: 480x640 2 faces, 13: 480x640 1 face, 14: 480x640 2 faces, 15: 480x640 1 face, 16: 480x640 3 faces, 17: 480x640 1 face, 18: 480x640 1 face, 19: 480x640 1 face, 20: 480x640 1 face, 21: 480x640 6 faces, 22: 480x640 2 faces, 23: 480x640 1 face, 24: 480x640 2 faces, 25: 480x640 1 face, 26: 480x640 1 face, 27: 480x640 3 faces, 28: 480x640 3 faces, 29: 480x640 2 faces, 30: 480x640 1 face, 31: 480x640 2 faces, 32: 480x640 2 faces, 33: 480x640 1 face, 34: 480x640 5 faces, 35: 480x640 1 face, 36: 480x640 3 faces, 37: 480x640 3 faces, 38: 480x640 7 faces, 39: 480x640 1 face, 40: 480x640 2 faces, 41: 480x640 1 face, 42: 480x640 2 faces, 43: 480x640 1 face, 44: 480x640 3 faces, 45: 480x640 1 face, 46: 480x640 1 face, 47: 480x640 1 face, 48: 480x640 1 face, 49: 480x640 1 face, 50: 480x640 1 face, 51: 480x640 2 faces, 52: 480x640 2 faces, 53: 480x640 1 face, 54: 480x640 2 faces, 55: 480x640 2 faces, 56: 480x640 1 face, 57: 480x640 4 faces, 58: 480x640 2 faces, 59: 480x640 1 face, 60: 480x640 2 faces, 61: 480x640 2 faces, 62: 480x640 4 faces, 63: 480x640 2 faces, 64: 480x640 2 faces, 65: 480x640 1 face, 66: 480x640 2 faces, 67: 480x640 1 face, 68: 480x640 1 face, 69: 480x640 2 faces, 70: 480x640 1 face, 71: 480x640 1 face, 72: 480x640 1 face, 73: 480x640 2 faces, 74: 480x640 2 faces, 75: 480x640 2 faces, 76: 480x640 1 face, 77: 480x640 2 faces, 78: 480x640 2 faces, 79: 480x640 2 faces, 80: 480x640 2 faces, 81: 480x640 4 faces, 82: 480x640 1 face, 83: 480x640 1 face, 84: 480x640 1 face, 85: 480x640 1 face, 86: 480x640 2 faces, 87: 480x640 1 face, 88: 480x640 2 faces, 89: 480x640 2 faces, 90: 480x640 2 faces, 91: 480x640 2 faces, 92: 480x640 1 face, 93: 480x640 4 faces, 94: 480x640 1 face, 95: 480x640 2 faces, 96: 480x640 2 faces, 97: 480x640 1 face, 98: 480x640 1 face, 99: 480x640 2 faces, 100: 480x640 1 face, 101: 480x640 1 face, 102: 480x640 4 faces, 103: 480x640 1 face, 104: 480x640 3 faces, 105: 480x640 1 face, 106: 480x640 2 faces, 107: 480x640 1 face, 108: 480x640 2 faces, 109: 480x640 1 face, 110: 480x640 1 face, 111: 480x640 1 face, 112: 480x640 1 face, 113: 480x640 1 face, 114: 480x640 2 faces, 115: 480x640 1 face, 116: 480x640 2 faces, 117: 480x640 1 face, 118: 480x640 2 faces, 119: 480x640 1 face, 120: 480x640 1 face, 121: 480x640 1 face, 122: 480x640 1 face, 123: 480x640 2 faces, 124: 480x640 5 faces, 125: 480x640 2 faces, 126: 480x640 1 face, 127: 480x640 2 faces, 128: 480x640 1 face, 129: 480x640 1 face, 130: 480x640 1 face, 131: 480x640 2 faces, 132: 480x640 1 face, 133: 480x640 1 face, 134: 480x640 1 face, 135: 480x640 1 face, 136: 480x640 3 faces, 137: 480x640 3 faces, 138: 480x640 1 face, 139: 480x640 1 face, 140: 480x640 1 face, 141: 480x640 2 faces, 142: 480x640 1 face, 143: 480x640 1 face, 144: 480x640 1 face, 145: 480x640 1 face, 146: 480x640 1 face, 147: 480x640 1 face, 148: 480x640 2 faces, 149: 480x640 2 faces, 150: 480x640 3 faces, 151: 480x640 2 faces, 152: 480x640 1 face, 153: 480x640 2 faces, 154: 480x640 2 faces, 155: 480x640 1 face, 156: 480x640 1 face, 157: 480x640 2 faces, 158: 480x640 1 face, 159: 480x640 1 face, 160: 480x640 2 faces, 161: 480x640 2 faces, 162: 480x640 2 faces, 163: 480x640 1 face, 164: 480x640 2 faces, 165: 480x640 1 face, 166: 480x640 3 faces, 167: 480x640 1 face, 168: 480x640 4 faces, 169: 480x640 1 face, 170: 480x640 1 face, 171: 480x640 1 face, 172: 480x640 2 faces, 173: 480x640 1 face, 174: 480x640 2 faces, 175: 480x640 2 faces, 176: 480x640 2 faces, 177: 480x640 2 faces, 178: 480x640 1 face, 179: 480x640 1 face, 180: 480x640 2 faces, 181: 480x640 1 face, 182: 480x640 2 faces, 183: 480x640 1 face, 184: 480x640 1 face, 185: 480x640 1 face, 186: 480x640 2 faces, 187: 480x640 1 face, 188: 480x640 2 faces, 189: 480x640 1 face, 190: 480x640 1 face, 191: 480x640 1 face, 192: 480x640 1 face, 193: 480x640 1 face, 194: 480x640 1 face, 195: 480x640 1 face, 196: 480x640 1 face, 197: 480x640 2 faces, 198: 480x640 1 face, 199: 480x640 2 faces, 260.4ms\n",
      "Speed: 3.6ms preprocess, 1.3ms inference, 2.1ms postprocess per image at shape (1, 3, 480, 640)\n",
      "\n",
      "0: 480x640 (no detections), 1: 480x640 (no detections), 2: 480x640 (no detections), 3: 480x640 (no detections), 4: 480x640 (no detections), 5: 480x640 1 face, 6: 480x640 (no detections), 7: 480x640 (no detections), 8: 480x640 1 face, 9: 480x640 1 face, 10: 480x640 (no detections), 11: 480x640 (no detections), 12: 480x640 1 face, 13: 480x640 1 face, 14: 480x640 (no detections), 15: 480x640 (no detections), 16: 480x640 1 face, 17: 480x640 1 face, 18: 480x640 (no detections), 19: 480x640 (no detections), 20: 480x640 (no detections), 21: 480x640 1 face, 22: 480x640 (no detections), 23: 480x640 1 face, 24: 480x640 (no detections), 25: 480x640 (no detections), 26: 480x640 (no detections), 27: 480x640 1 face, 28: 480x640 (no detections), 29: 480x640 (no detections), 30: 480x640 (no detections), 31: 480x640 (no detections), 32: 480x640 (no detections), 33: 480x640 1 face, 34: 480x640 (no detections), 35: 480x640 (no detections), 36: 480x640 1 face, 37: 480x640 1 face, 38: 480x640 1 face, 39: 480x640 1 face, 40: 480x640 (no detections), 41: 480x640 (no detections), 42: 480x640 (no detections), 43: 480x640 (no detections), 44: 480x640 1 face, 45: 480x640 1 face, 46: 480x640 (no detections), 47: 480x640 1 face, 48: 480x640 1 face, 49: 480x640 1 face, 50: 480x640 1 face, 51: 480x640 (no detections), 52: 480x640 (no detections), 53: 480x640 (no detections), 54: 480x640 (no detections), 55: 480x640 (no detections), 56: 480x640 (no detections), 57: 480x640 2 faces, 58: 480x640 1 face, 59: 480x640 (no detections), 60: 480x640 (no detections), 61: 480x640 (no detections), 62: 480x640 1 face, 63: 480x640 (no detections), 64: 480x640 1 face, 65: 480x640 (no detections), 66: 480x640 (no detections), 67: 480x640 (no detections), 68: 480x640 (no detections), 69: 480x640 1 face, 70: 480x640 1 face, 71: 480x640 (no detections), 72: 480x640 (no detections), 73: 480x640 (no detections), 74: 480x640 (no detections), 75: 480x640 1 face, 76: 480x640 (no detections), 77: 480x640 1 face, 78: 480x640 (no detections), 79: 480x640 (no detections), 80: 480x640 1 face, 81: 480x640 (no detections), 82: 480x640 (no detections), 83: 480x640 1 face, 84: 480x640 (no detections), 85: 480x640 (no detections), 86: 480x640 (no detections), 87: 480x640 (no detections), 88: 480x640 (no detections), 89: 480x640 (no detections), 90: 480x640 1 face, 91: 480x640 (no detections), 92: 480x640 (no detections), 93: 480x640 1 face, 94: 480x640 (no detections), 95: 480x640 1 face, 96: 480x640 1 face, 97: 480x640 (no detections), 98: 480x640 (no detections), 99: 480x640 (no detections), 100: 480x640 (no detections), 101: 480x640 1 face, 102: 480x640 1 face, 103: 480x640 (no detections), 104: 480x640 1 face, 105: 480x640 1 face, 106: 480x640 (no detections), 107: 480x640 (no detections), 108: 480x640 (no detections), 109: 480x640 (no detections), 110: 480x640 (no detections), 111: 480x640 (no detections), 112: 480x640 1 face, 113: 480x640 (no detections), 114: 480x640 (no detections), 115: 480x640 (no detections), 116: 480x640 1 face, 117: 480x640 (no detections), 118: 480x640 1 face, 119: 480x640 (no detections), 120: 480x640 1 face, 121: 480x640 (no detections), 122: 480x640 (no detections), 123: 480x640 (no detections), 124: 480x640 1 face, 125: 480x640 (no detections), 126: 480x640 (no detections), 127: 480x640 (no detections), 128: 480x640 (no detections), 129: 480x640 (no detections), 130: 480x640 1 face, 131: 480x640 1 face, 132: 480x640 1 face, 133: 480x640 (no detections), 134: 480x640 1 face, 135: 480x640 1 face, 136: 480x640 1 face, 137: 480x640 1 face, 138: 480x640 1 face, 139: 480x640 (no detections), 140: 480x640 (no detections), 141: 480x640 1 face, 142: 480x640 1 face, 143: 480x640 (no detections), 144: 480x640 (no detections), 145: 480x640 (no detections), 146: 480x640 1 face, 147: 480x640 1 face, 148: 480x640 (no detections), 149: 480x640 (no detections), 150: 480x640 1 face, 151: 480x640 1 face, 152: 480x640 (no detections), 153: 480x640 1 face, 154: 480x640 1 face, 155: 480x640 1 face, 156: 480x640 (no detections), 157: 480x640 1 face, 158: 480x640 1 face, 159: 480x640 1 face, 160: 480x640 1 face, 161: 480x640 (no detections), 162: 480x640 1 face, 163: 480x640 1 face, 164: 480x640 (no detections), 165: 480x640 (no detections), 166: 480x640 1 face, 167: 480x640 1 face, 168: 480x640 1 face, 169: 480x640 1 face, 170: 480x640 (no detections), 171: 480x640 (no detections), 172: 480x640 1 face, 173: 480x640 1 face, 174: 480x640 1 face, 175: 480x640 (no detections), 176: 480x640 1 face, 177: 480x640 (no detections), 178: 480x640 (no detections), 179: 480x640 1 face, 180: 480x640 1 face, 181: 480x640 (no detections), 182: 480x640 1 face, 183: 480x640 (no detections), 184: 480x640 (no detections), 185: 480x640 (no detections), 186: 480x640 (no detections), 187: 480x640 (no detections), 188: 480x640 1 face, 189: 480x640 (no detections), 190: 480x640 (no detections), 191: 480x640 1 face, 192: 480x640 1 face, 193: 480x640 (no detections), 194: 480x640 (no detections), 195: 480x640 (no detections), 196: 480x640 (no detections), 197: 480x640 (no detections), 198: 480x640 (no detections), 199: 480x640 (no detections), 203.7ms\n",
      "Speed: 1.7ms preprocess, 1.0ms inference, 0.4ms postprocess per image at shape (1, 3, 480, 640)\n",
      "\n",
      "0: 480x640 1 face, 1: 480x640 (no detections), 2: 480x640 (no detections), 3: 480x640 (no detections), 4: 480x640 (no detections), 5: 480x640 (no detections), 6: 480x640 (no detections), 7: 480x640 (no detections), 8: 480x640 1 face, 9: 480x640 (no detections), 10: 480x640 1 face, 11: 480x640 (no detections), 12: 480x640 (no detections), 13: 480x640 (no detections), 14: 480x640 1 face, 15: 480x640 1 face, 16: 480x640 (no detections), 17: 480x640 (no detections), 18: 480x640 (no detections), 19: 480x640 (no detections), 20: 480x640 1 face, 21: 480x640 1 face, 22: 480x640 1 face, 23: 480x640 (no detections), 24: 480x640 1 face, 25: 480x640 (no detections), 26: 480x640 (no detections), 27: 480x640 (no detections), 28: 480x640 1 face, 29: 480x640 1 face, 30: 480x640 (no detections), 31: 480x640 (no detections), 32: 480x640 1 face, 33: 480x640 (no detections), 34: 480x640 (no detections), 35: 480x640 (no detections), 36: 480x640 (no detections), 37: 480x640 (no detections), 38: 480x640 1 face, 39: 480x640 (no detections), 40: 480x640 1 face, 41: 480x640 1 face, 42: 480x640 1 face, 43: 480x640 (no detections), 44: 480x640 1 face, 45: 480x640 (no detections), 46: 480x640 (no detections), 47: 480x640 (no detections), 48: 480x640 (no detections), 49: 480x640 (no detections), 50: 480x640 (no detections), 51: 480x640 1 face, 52: 480x640 (no detections), 53: 480x640 (no detections), 54: 480x640 1 face, 55: 480x640 (no detections), 56: 480x640 (no detections), 57: 480x640 1 face, 58: 480x640 1 face, 59: 480x640 (no detections), 60: 480x640 1 face, 61: 480x640 1 face, 62: 480x640 2 faces, 63: 480x640 1 face, 64: 480x640 1 face, 65: 480x640 (no detections), 66: 480x640 1 face, 67: 480x640 (no detections), 68: 480x640 (no detections), 69: 480x640 1 face, 70: 480x640 (no detections), 71: 480x640 1 face, 72: 480x640 1 face, 73: 480x640 1 face, 74: 480x640 1 face, 75: 480x640 (no detections), 76: 480x640 (no detections), 77: 480x640 (no detections), 78: 480x640 1 face, 79: 480x640 1 face, 80: 480x640 (no detections), 81: 480x640 1 face, 82: 480x640 (no detections), 83: 480x640 (no detections), 84: 480x640 (no detections), 85: 480x640 (no detections), 86: 480x640 1 face, 87: 480x640 (no detections), 88: 480x640 1 face, 89: 480x640 (no detections), 90: 480x640 1 face, 91: 480x640 1 face, 92: 480x640 (no detections), 93: 480x640 1 face, 94: 480x640 (no detections), 95: 480x640 1 face, 96: 480x640 1 face, 97: 480x640 (no detections), 98: 480x640 1 face, 99: 480x640 1 face, 100: 480x640 (no detections), 101: 480x640 (no detections), 102: 480x640 1 face, 103: 480x640 (no detections), 104: 480x640 1 face, 105: 480x640 (no detections), 106: 480x640 1 face, 107: 480x640 (no detections), 108: 480x640 1 face, 109: 480x640 (no detections), 110: 480x640 1 face, 111: 480x640 (no detections), 112: 480x640 1 face, 113: 480x640 (no detections), 114: 480x640 1 face, 115: 480x640 1 face, 116: 480x640 1 face, 117: 480x640 (no detections), 118: 480x640 (no detections), 119: 480x640 (no detections), 120: 480x640 1 face, 121: 480x640 (no detections), 122: 480x640 (no detections), 123: 480x640 1 face, 124: 480x640 1 face, 125: 480x640 (no detections), 126: 480x640 (no detections), 127: 480x640 (no detections), 128: 480x640 (no detections), 129: 480x640 (no detections), 130: 480x640 (no detections), 131: 480x640 (no detections), 132: 480x640 (no detections), 133: 480x640 (no detections), 134: 480x640 (no detections), 135: 480x640 (no detections), 136: 480x640 (no detections), 137: 480x640 (no detections), 138: 480x640 (no detections), 139: 480x640 (no detections), 140: 480x640 (no detections), 141: 480x640 1 face, 142: 480x640 (no detections), 143: 480x640 (no detections), 144: 480x640 (no detections), 145: 480x640 (no detections), 146: 480x640 (no detections), 147: 480x640 (no detections), 148: 480x640 1 face, 149: 480x640 (no detections), 150: 480x640 1 face, 151: 480x640 (no detections), 152: 480x640 (no detections), 153: 480x640 (no detections), 154: 480x640 (no detections), 155: 480x640 (no detections), 156: 480x640 (no detections), 157: 480x640 (no detections), 158: 480x640 (no detections), 159: 480x640 (no detections), 160: 480x640 (no detections), 161: 480x640 1 face, 162: 480x640 (no detections), 163: 480x640 (no detections), 164: 480x640 1 face, 165: 480x640 1 face, 166: 480x640 1 face, 167: 480x640 (no detections), 168: 480x640 1 face, 169: 480x640 (no detections), 170: 480x640 (no detections), 171: 480x640 1 face, 172: 480x640 1 face, 173: 480x640 (no detections), 174: 480x640 (no detections), 175: 480x640 (no detections), 176: 480x640 (no detections), 177: 480x640 (no detections), 178: 480x640 (no detections), 179: 480x640 (no detections), 180: 480x640 (no detections), 181: 480x640 1 face, 182: 480x640 (no detections), 183: 480x640 (no detections), 184: 480x640 (no detections), 185: 480x640 1 face, 186: 480x640 1 face, 187: 480x640 (no detections), 188: 480x640 1 face, 189: 480x640 (no detections), 190: 480x640 (no detections), 191: 480x640 (no detections), 192: 480x640 (no detections), 193: 480x640 (no detections), 194: 480x640 1 face, 195: 480x640 (no detections), 196: 480x640 (no detections), 197: 480x640 (no detections), 198: 480x640 (no detections), 199: 480x640 1 face, 204.1ms\n",
      "Speed: 1.8ms preprocess, 1.0ms inference, 0.4ms postprocess per image at shape (1, 3, 480, 640)\n",
      "\n",
      "0: 480x640 (no detections), 1: 480x640 1 face, 2: 480x640 1 face, 3: 480x640 (no detections), 4: 480x640 (no detections), 5: 480x640 (no detections), 6: 480x640 1 face, 7: 480x640 (no detections), 8: 480x640 1 face, 9: 480x640 (no detections), 10: 480x640 1 face, 11: 480x640 1 face, 12: 480x640 1 face, 13: 480x640 (no detections), 14: 480x640 1 face, 15: 480x640 (no detections), 16: 480x640 1 face, 17: 480x640 (no detections), 18: 480x640 1 face, 19: 480x640 (no detections), 20: 480x640 (no detections), 21: 480x640 1 face, 22: 480x640 1 face, 23: 480x640 (no detections), 24: 480x640 1 face, 25: 480x640 (no detections), 26: 480x640 1 face, 27: 480x640 1 face, 28: 480x640 2 faces, 29: 480x640 1 face, 30: 480x640 (no detections), 31: 480x640 1 face, 32: 480x640 (no detections), 33: 480x640 1 face, 34: 480x640 1 face, 35: 480x640 1 face, 36: 480x640 (no detections), 37: 480x640 (no detections), 38: 480x640 1 face, 39: 480x640 1 face, 40: 480x640 1 face, 41: 480x640 (no detections), 42: 480x640 1 face, 43: 480x640 1 face, 44: 480x640 1 face, 45: 480x640 1 face, 46: 480x640 1 face, 47: 480x640 1 face, 48: 480x640 (no detections), 49: 480x640 (no detections), 50: 480x640 (no detections), 51: 480x640 1 face, 52: 480x640 1 face, 53: 480x640 (no detections), 54: 480x640 1 face, 55: 480x640 2 faces, 56: 480x640 (no detections), 57: 480x640 1 face, 58: 480x640 1 face, 59: 480x640 1 face, 60: 480x640 (no detections), 61: 480x640 1 face, 62: 480x640 1 face, 63: 480x640 (no detections), 64: 480x640 1 face, 65: 480x640 (no detections), 66: 480x640 1 face, 67: 480x640 1 face, 68: 480x640 (no detections), 69: 480x640 (no detections), 70: 480x640 (no detections), 71: 480x640 1 face, 72: 480x640 1 face, 73: 480x640 (no detections), 74: 480x640 1 face, 75: 480x640 1 face, 76: 480x640 1 face, 77: 480x640 1 face, 78: 480x640 1 face, 79: 480x640 (no detections), 80: 480x640 1 face, 81: 480x640 2 faces, 82: 480x640 1 face, 83: 480x640 (no detections), 84: 480x640 1 face, 85: 480x640 (no detections), 86: 480x640 1 face, 87: 480x640 1 face, 88: 480x640 (no detections), 89: 480x640 1 face, 90: 480x640 1 face, 91: 480x640 1 face, 92: 480x640 (no detections), 93: 480x640 1 face, 94: 480x640 1 face, 95: 480x640 1 face, 96: 480x640 (no detections), 97: 480x640 (no detections), 98: 480x640 1 face, 99: 480x640 1 face, 100: 480x640 1 face, 101: 480x640 (no detections), 102: 480x640 1 face, 103: 480x640 1 face, 104: 480x640 1 face, 105: 480x640 (no detections), 106: 480x640 1 face, 107: 480x640 (no detections), 108: 480x640 1 face, 109: 480x640 (no detections), 110: 480x640 1 face, 111: 480x640 (no detections), 112: 480x640 1 face, 113: 480x640 1 face, 114: 480x640 (no detections), 115: 480x640 1 face, 116: 480x640 (no detections), 117: 480x640 1 face, 118: 480x640 1 face, 119: 480x640 (no detections), 120: 480x640 1 face, 121: 480x640 1 face, 122: 480x640 1 face, 123: 480x640 1 face, 124: 480x640 2 faces, 125: 480x640 1 face, 126: 480x640 (no detections), 127: 480x640 1 face, 128: 480x640 1 face, 129: 480x640 1 face, 130: 480x640 (no detections), 131: 480x640 (no detections), 132: 480x640 (no detections), 133: 480x640 1 face, 134: 480x640 1 face, 135: 480x640 (no detections), 136: 480x640 1 face, 137: 480x640 (no detections), 138: 480x640 (no detections), 139: 480x640 (no detections), 140: 480x640 1 face, 141: 480x640 1 face, 142: 480x640 1 face, 143: 480x640 (no detections), 144: 480x640 (no detections), 145: 480x640 (no detections), 146: 480x640 (no detections), 147: 480x640 (no detections), 148: 480x640 (no detections), 149: 480x640 1 face, 150: 480x640 1 face, 151: 480x640 1 face, 152: 480x640 1 face, 153: 480x640 1 face, 154: 480x640 1 face, 155: 480x640 (no detections), 156: 480x640 1 face, 157: 480x640 1 face, 158: 480x640 (no detections), 159: 480x640 (no detections), 160: 480x640 1 face, 161: 480x640 1 face, 162: 480x640 1 face, 163: 480x640 (no detections), 164: 480x640 1 face, 165: 480x640 (no detections), 166: 480x640 1 face, 167: 480x640 (no detections), 168: 480x640 1 face, 169: 480x640 (no detections), 170: 480x640 1 face, 171: 480x640 1 face, 172: 480x640 (no detections), 173: 480x640 (no detections), 174: 480x640 1 face, 175: 480x640 1 face, 176: 480x640 (no detections), 177: 480x640 1 face, 178: 480x640 (no detections), 179: 480x640 (no detections), 180: 480x640 1 face, 181: 480x640 1 face, 182: 480x640 (no detections), 183: 480x640 1 face, 184: 480x640 (no detections), 185: 480x640 (no detections), 186: 480x640 1 face, 187: 480x640 1 face, 188: 480x640 1 face, 189: 480x640 1 face, 190: 480x640 1 face, 191: 480x640 (no detections), 192: 480x640 1 face, 193: 480x640 1 face, 194: 480x640 (no detections), 195: 480x640 (no detections), 196: 480x640 1 face, 197: 480x640 1 face, 198: 480x640 1 face, 199: 480x640 1 face, 205.3ms\n",
      "Speed: 2.0ms preprocess, 1.0ms inference, 0.4ms postprocess per image at shape (1, 3, 480, 640)\n",
      "\n",
      "0: 480x640 1 face, 1: 480x640 1 face, 2: 480x640 (no detections), 3: 480x640 1 face, 4: 480x640 1 face, 5: 480x640 (no detections), 6: 480x640 (no detections), 7: 480x640 1 face, 8: 480x640 (no detections), 9: 480x640 (no detections), 10: 480x640 (no detections), 11: 480x640 (no detections), 12: 480x640 (no detections), 13: 480x640 (no detections), 14: 480x640 1 face, 15: 480x640 (no detections), 16: 480x640 1 face, 17: 480x640 (no detections), 18: 480x640 (no detections), 19: 480x640 1 face, 20: 480x640 (no detections), 21: 480x640 1 face, 22: 480x640 1 face, 23: 480x640 (no detections), 24: 480x640 1 face, 25: 480x640 1 face, 26: 480x640 (no detections), 27: 480x640 (no detections), 28: 480x640 (no detections), 29: 480x640 1 face, 30: 480x640 1 face, 31: 480x640 1 face, 32: 480x640 1 face, 33: 480x640 (no detections), 34: 480x640 (no detections), 35: 480x640 (no detections), 36: 480x640 1 face, 37: 480x640 (no detections), 38: 480x640 1 face, 39: 480x640 (no detections), 40: 480x640 1 face, 41: 480x640 1 face, 42: 480x640 1 face, 43: 480x640 (no detections), 44: 480x640 1 face, 45: 480x640 (no detections), 46: 480x640 (no detections), 47: 480x640 (no detections), 48: 480x640 1 face, 49: 480x640 (no detections), 50: 480x640 (no detections), 51: 480x640 1 face, 52: 480x640 1 face, 53: 480x640 1 face, 54: 480x640 1 face, 55: 480x640 (no detections), 56: 480x640 1 face, 57: 480x640 1 face, 58: 480x640 (no detections), 59: 480x640 (no detections), 60: 480x640 1 face, 61: 480x640 1 face, 62: 480x640 (no detections), 63: 480x640 1 face, 64: 480x640 (no detections), 65: 480x640 1 face, 66: 480x640 (no detections), 67: 480x640 (no detections), 68: 480x640 1 face, 69: 480x640 (no detections), 70: 480x640 (no detections), 71: 480x640 (no detections), 72: 480x640 (no detections), 73: 480x640 1 face, 74: 480x640 1 face, 75: 480x640 (no detections), 76: 480x640 (no detections), 77: 480x640 (no detections), 78: 480x640 1 face, 79: 480x640 1 face, 80: 480x640 (no detections), 81: 480x640 1 face, 82: 480x640 (no detections), 83: 480x640 (no detections), 84: 480x640 (no detections), 85: 480x640 1 face, 86: 480x640 (no detections), 87: 480x640 (no detections), 88: 480x640 1 face, 89: 480x640 1 face, 90: 480x640 (no detections), 91: 480x640 (no detections), 92: 480x640 1 face, 93: 480x640 1 face, 94: 480x640 (no detections), 95: 480x640 (no detections), 96: 480x640 (no detections), 97: 480x640 1 face, 98: 480x640 (no detections), 99: 480x640 1 face, 100: 480x640 (no detections), 101: 480x640 (no detections), 102: 480x640 1 face, 103: 480x640 (no detections), 104: 480x640 (no detections), 105: 480x640 (no detections), 106: 480x640 1 face, 107: 480x640 1 face, 108: 480x640 1 face, 109: 480x640 1 face, 110: 480x640 (no detections), 111: 480x640 1 face, 112: 480x640 (no detections), 113: 480x640 (no detections), 114: 480x640 1 face, 115: 480x640 (no detections), 116: 480x640 (no detections), 117: 480x640 (no detections), 118: 480x640 (no detections), 119: 480x640 1 face, 120: 480x640 (no detections), 121: 480x640 (no detections), 122: 480x640 (no detections), 123: 480x640 1 face, 124: 480x640 1 face, 125: 480x640 1 face, 126: 480x640 1 face, 127: 480x640 1 face, 128: 480x640 (no detections), 129: 480x640 (no detections), 130: 480x640 (no detections), 131: 480x640 (no detections), 132: 480x640 (no detections), 133: 480x640 (no detections), 134: 480x640 (no detections), 135: 480x640 (no detections), 136: 480x640 (no detections), 137: 480x640 (no detections), 138: 480x640 (no detections), 139: 480x640 1 face, 140: 480x640 (no detections), 141: 480x640 (no detections), 142: 480x640 1 face, 143: 480x640 1 face, 144: 480x640 1 face, 145: 480x640 1 face, 146: 480x640 (no detections), 147: 480x640 (no detections), 148: 480x640 1 face, 149: 480x640 (no detections), 150: 480x640 1 face, 151: 480x640 (no detections), 152: 480x640 (no detections), 153: 480x640 (no detections), 154: 480x640 (no detections), 155: 480x640 (no detections), 156: 480x640 (no detections), 157: 480x640 (no detections), 158: 480x640 (no detections), 159: 480x640 (no detections), 160: 480x640 (no detections), 161: 480x640 (no detections), 162: 480x640 (no detections), 163: 480x640 (no detections), 164: 480x640 1 face, 165: 480x640 (no detections), 166: 480x640 (no detections), 167: 480x640 (no detections), 168: 480x640 1 face, 169: 480x640 (no detections), 170: 480x640 (no detections), 171: 480x640 (no detections), 172: 480x640 (no detections), 173: 480x640 (no detections), 174: 480x640 (no detections), 175: 480x640 (no detections), 176: 480x640 1 face, 177: 480x640 1 face, 178: 480x640 1 face, 179: 480x640 (no detections), 180: 480x640 (no detections), 181: 480x640 (no detections), 182: 480x640 (no detections), 183: 480x640 (no detections), 184: 480x640 1 face, 185: 480x640 (no detections), 186: 480x640 1 face, 187: 480x640 1 face, 188: 480x640 (no detections), 189: 480x640 (no detections), 190: 480x640 (no detections), 191: 480x640 (no detections), 192: 480x640 (no detections), 193: 480x640 (no detections), 194: 480x640 (no detections), 195: 480x640 1 face, 196: 480x640 (no detections), 197: 480x640 (no detections), 198: 480x640 (no detections), 199: 480x640 1 face, 202.8ms\n",
      "Speed: 1.6ms preprocess, 1.0ms inference, 0.4ms postprocess per image at shape (1, 3, 480, 640)\n"
     ]
    }
   ],
   "source": [
    "\n",
    "from ultralytics import YOLO\n",
    "\n",
    "for personaj in [\"task1_all_faces\", \"task2_barney\", \"task2_betty\", \"task2_fred\", \"task2_wilma\"]:\n",
    "    \n",
    "    # Calea catre directorul cu modele antrenate\n",
    "    model = YOLO(f'../modele/train_{personaj[6:]}/weights/best.pt')\n",
    "\n",
    "    # Eu am folosit GPU\n",
    "    model.to('cuda')\n",
    "\n",
    "    # De inlocuit cu calea catre directorul cu fisierele pentru testare\n",
    "    fisiere_det = [\"../testare/\" + im_name for im_name in os.listdir(\"../testare/\")]\n",
    "\n",
    "    \n",
    "    detect = model(fisiere_det)\n",
    "    detections = []\n",
    "    file_names = []\n",
    "    scores = []\n",
    "\n",
    "    nr = 0\n",
    "    for det in detect:\n",
    "        # output-ul oferit de yolo\n",
    "        bbo = det.boxes.xyxy\n",
    "        nr += 1\n",
    "        for i in range(len(bbo)):\n",
    "            detections.append([int(bbo[i][0]), int(bbo[i][1]), int(bbo[i][2]), int(bbo[i][3])])\n",
    "            file_names.append(str(nr).zfill(4) + \".jpg\")\n",
    "            scores.append(det.boxes.conf[i].item())\n",
    "\n",
    "    if \"task1\" in personaj:\n",
    "        np.save(f\"rezultate/task1/detections_{personaj[6:]}.npy\", detections)\n",
    "        np.save(f\"rezultate/task1/file_names_{personaj[6:]}.npy\", file_names)\n",
    "        np.save(f\"rezultate/task1/scores_{personaj[6:]}.npy\", scores)\n",
    "    else:\n",
    "        np.save(f\"rezultate/task2/detections_{personaj[6:]}.npy\", detections)\n",
    "        np.save(f\"rezultate/task2/file_names_{personaj[6:]}.npy\", file_names)\n",
    "        np.save(f\"rezultate/task2/scores_{personaj[6:]}.npy\", scores)\n",
    "\n",
    "    # print(detections)\n",
    "    # print(file_names)\n",
    "    # eval_detections(detections,  file_names)"
   ]
  },
  {
   "cell_type": "code",
   "execution_count": null,
   "metadata": {},
   "outputs": [],
   "source": []
  }
 ],
 "metadata": {
  "kernelspec": {
   "display_name": "CAVAProject",
   "language": "python",
   "name": "python3"
  },
  "language_info": {
   "codemirror_mode": {
    "name": "ipython",
    "version": 3
   },
   "file_extension": ".py",
   "mimetype": "text/x-python",
   "name": "python",
   "nbconvert_exporter": "python",
   "pygments_lexer": "ipython3",
   "version": "3.11.5"
  }
 },
 "nbformat": 4,
 "nbformat_minor": 2
}
